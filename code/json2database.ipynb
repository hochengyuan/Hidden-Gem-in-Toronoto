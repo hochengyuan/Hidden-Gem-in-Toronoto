{
 "cells": [
  {
   "cell_type": "code",
   "execution_count": 1,
   "metadata": {
    "collapsed": false
   },
   "outputs": [
    {
     "name": "stderr",
     "output_type": "stream",
     "text": [
      "/Users/JasonChang/anaconda/lib/python3.6/site-packages/pymysql/cursors.py:166: Warning: (1007, \"Can't create database 'Yelp'; database exists\")\n",
      "  result = self._query(query)\n"
     ]
    }
   ],
   "source": [
    "import json\n",
    "import pymysql\n",
    "import sys\n",
    "\n",
    "connection = pymysql.connect(host = 'localhost',\n",
    "                             user = 'root',\n",
    "                             passwd = '',\n",
    "                             charset='utf8', use_unicode=True);\n",
    "\n",
    "# Query to create a database\n",
    "db_name = 'Yelp'\n",
    "create_db_query = \"CREATE DATABASE IF NOT EXISTS {0} DEFAULT CHARACTER SET 'utf8'\".format(db_name)\n",
    "\n",
    "# Create a database\n",
    "cursor = connection.cursor()\n",
    "cursor.execute(create_db_query)\n",
    "cursor.close()"
   ]
  },
  {
   "cell_type": "code",
   "execution_count": 2,
   "metadata": {
    "collapsed": false
   },
   "outputs": [],
   "source": [
    "cursor = connection.cursor()\n",
    "db_name = 'Yelp'\n",
    "table_name = 'Business'\n",
    "drop_table_query = '''USE Yelp;\n",
    "                      DROP Table Business;'''.format(db_name, table_name)\n",
    "cursor.execute(drop_table_query)\n",
    "cursor.close()"
   ]
  },
  {
   "cell_type": "code",
   "execution_count": 3,
   "metadata": {
    "collapsed": true
   },
   "outputs": [],
   "source": [
    "cursor = connection.cursor()\n",
    "db_name = 'Yelp'\n",
    "table_name = 'Biz_Categories'\n",
    "drop_table_query = '''USE Yelp;\n",
    "                      DROP Table Biz_Categories;'''.format(db_name, table_name)\n",
    "cursor.execute(drop_table_query)\n",
    "cursor.close()"
   ]
  },
  {
   "cell_type": "code",
   "execution_count": 4,
   "metadata": {
    "collapsed": false
   },
   "outputs": [],
   "source": [
    "cursor = connection.cursor()\n",
    "db_name = 'Yelp'\n",
    "table_name = 'Business'\n",
    "# Create a table\n",
    "# The {0} and {1} are placeholders for the parameters in the format(....) statement\n",
    "create_table_query = '''CREATE TABLE IF NOT EXISTS {0}.{1} \n",
    "                                (business_id varchar(250), \n",
    "                                name varchar(250), \n",
    "                                neighborhood varchar(100),\n",
    "                                address varchar(250),\n",
    "                                city varchar(100),\n",
    "                                state varchar(100),\n",
    "                                postal_code varchar(100),\n",
    "                                latitude float,\n",
    "                                longitude float,\n",
    "                                stars real,\n",
    "                                review_count int,\n",
    "                                type varchar(100),\n",
    "                                PRIMARY KEY(business_id)\n",
    "                                )'''.format(db_name, table_name)\n",
    "cursor.execute(create_table_query)\n",
    "cursor.close()"
   ]
  },
  {
   "cell_type": "code",
   "execution_count": 5,
   "metadata": {
    "collapsed": false
   },
   "outputs": [],
   "source": [
    "cursor = connection.cursor()\n",
    "db_name = 'Yelp'\n",
    "table_name = 'Biz_Categories'\n",
    "# Create a table\n",
    "# The {0} and {1} are placeholders for the parameters in the format(....) statement\n",
    "create_table_query = '''CREATE TABLE IF NOT EXISTS {0}.{1} \n",
    "                                (business_id varchar(250), \n",
    "                                categories varchar(250),\n",
    "                                PRIMARY KEY(business_id, categories)\n",
    "                                )'''.format(db_name, table_name)\n",
    "cursor.execute(create_table_query)\n",
    "cursor.close()"
   ]
  },
  {
   "cell_type": "code",
   "execution_count": 6,
   "metadata": {
    "collapsed": false
   },
   "outputs": [],
   "source": [
    "import json\n",
    "\n",
    "yelp_biz_data = []\n",
    "with open(\"yelp_academic_dataset_business.json\") as yelp_business:\n",
    "    for item in yelp_business:\n",
    "        tmp = json.loads(item)\n",
    "        yelp_biz_data.append(tmp)\n",
    "\n"
   ]
  },
  {
   "cell_type": "code",
   "execution_count": 7,
   "metadata": {
    "collapsed": false
   },
   "outputs": [],
   "source": [
    "query_template = '''\n",
    "INSERT INTO \n",
    "Yelp.Biz_Categories(business_id, categories) \n",
    "        VALUES (%s, %s)'''\n",
    "\n",
    "cursor = connection.cursor()\n",
    "\n",
    "i = 0;\n",
    "for entry in yelp_biz_data:\n",
    "    if yelp_biz_data[i][\"categories\"] is not None:\n",
    "        for cat in yelp_biz_data[i][\"categories\"]:\n",
    "            business_id = entry[\"business_id\"]\n",
    "            categories = cat\n",
    "            query_parameters = (business_id, categories)\n",
    "            cursor.execute(query_template, query_parameters)\n",
    "        i+=1;\n",
    "    else:\n",
    "        i+=1;\n",
    "'''\n",
    "Commit changes to stable storage\n",
    "'''\n",
    "connection.commit()\n",
    "cursor.close()"
   ]
  },
  {
   "cell_type": "code",
   "execution_count": 8,
   "metadata": {
    "collapsed": true
   },
   "outputs": [],
   "source": [
    "query_template = '''\n",
    "INSERT INTO \n",
    "Yelp.Business(business_id, name, neighborhood, address, city, state, postal_code, latitude, longitude, \n",
    "                stars, review_count) \n",
    "        VALUES (%s, %s, %s, %s, %s, %s, %s, %s, %s, %s, %s)'''\n",
    "\n",
    "cursor = connection.cursor()\n",
    "\n",
    "for entry in yelp_biz_data:\n",
    "    business_id = entry[\"business_id\"]\n",
    "    name = entry[\"name\"]\n",
    "    neighborhood = entry[\"neighborhood\"]\n",
    "    address = entry[\"address\"]\n",
    "    city = entry[\"city\"]\n",
    "    state = entry[\"state\"]\n",
    "    postal_code = entry[\"postal_code\"]\n",
    "    latitude = entry[\"latitude\"]\n",
    "    longitude = entry[\"longitude\"]\n",
    "    stars = entry[\"stars\"]\n",
    "    review_count = entry[\"review_count\"]\n",
    "    query_parameters = (business_id, name, neighborhood, address, city, state, postal_code, latitude, longitude, stars, review_count)\n",
    "    cursor.execute(query_template, query_parameters)\n",
    "\n",
    "'''\n",
    "Commit changes to stable storage\n",
    "'''\n",
    "connection.commit()\n",
    "cursor.close()"
   ]
  },
  {
   "cell_type": "code",
   "execution_count": null,
   "metadata": {
    "collapsed": true
   },
   "outputs": [],
   "source": []
  }
 ],
 "metadata": {
  "kernelspec": {
   "display_name": "Python 3",
   "language": "python",
   "name": "python3"
  },
  "language_info": {
   "codemirror_mode": {
    "name": "ipython",
    "version": 3
   },
   "file_extension": ".py",
   "mimetype": "text/x-python",
   "name": "python",
   "nbconvert_exporter": "python",
   "pygments_lexer": "ipython3",
   "version": "3.6.0"
  }
 },
 "nbformat": 4,
 "nbformat_minor": 2
}
