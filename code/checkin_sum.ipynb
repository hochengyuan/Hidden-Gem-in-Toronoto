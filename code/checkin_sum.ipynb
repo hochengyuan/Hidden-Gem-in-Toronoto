{
 "cells": [
  {
   "cell_type": "code",
   "execution_count": 1,
   "metadata": {
    "collapsed": true
   },
   "outputs": [],
   "source": [
    "import csv\n",
    "import ast\n",
    "\n",
    "checkin = open(\"checkin.csv\" , \"r\" , encoding ='utf-8')\n",
    "\n",
    "checkin_csv_reader = csv.reader(checkin)\n",
    "checkin_list = list(checkin_csv_reader)\n",
    "\n",
    "# print(type(checkin_list)) == list\n",
    "# print(len(checkin_list)) == 12553\n",
    "# print(type(checkin_list[1][0])) == str \n",
    "\n",
    "checkin.close()"
   ]
  },
  {
   "cell_type": "code",
   "execution_count": 2,
   "metadata": {
    "collapsed": true
   },
   "outputs": [],
   "source": [
    "# make list-like string of data to actual list\n",
    "for each_checkin in checkin_list[1:]:\n",
    "    str_checkin = each_checkin[0]\n",
    "    str_lower_bar_checkin = str_checkin.replace(\"-\" , \"_\")\n",
    "    list_str_checkin = ast.literal_eval(str_lower_bar_checkin)\n",
    "    each_checkin[0] = list_str_checkin"
   ]
  },
  {
   "cell_type": "code",
   "execution_count": 3,
   "metadata": {
    "collapsed": true
   },
   "outputs": [],
   "source": [
    "# preparing for the valid format the dictionary by adding \" ' \" before the colon\n",
    "for each_checkin in checkin_list[1:]:\n",
    "    #temp_time_spot_list = [add_punctuation_before_colon(time_log , \"'\") for time_log in each_checkin[0]]\n",
    "    #each_checkin[0] = temp_time_spot_list\n",
    "    dict_log = dict(map(str, logging.split(':')) for logging in each_checkin[0])\n",
    "    each_checkin[0] = dict_log  #type: dict\n",
    "    # make the value of dict be integer\n",
    "    dict_log_with_value_int = dict((k,int(v)) for k,v in each_checkin[0].items())\n",
    "    each_checkin[0] = dict_log_with_value_int"
   ]
  },
  {
   "cell_type": "code",
   "execution_count": 4,
   "metadata": {
    "collapsed": false
   },
   "outputs": [
    {
     "name": "stdout",
     "output_type": "stream",
     "text": [
      "['time', 'business_id', 'type', 'Checkin_Frequency']\n",
      "[{'Thu_0': 1, 'Mon_1': 1, 'Mon_12': 1, 'Sat_16': 1}, 'tJRDll5yqpZwehenzE2cSg', 'checkin', 4]\n"
     ]
    }
   ],
   "source": [
    "# append the sum of checkin to the list of checkin_list\n",
    "for each_checkin in checkin_list[1:]:\n",
    "    sum_log_value = 0\n",
    "    for log_value in each_checkin[0].values():\n",
    "        sum_log_value += log_value\n",
    "    each_checkin.append(sum_log_value)\n",
    "\n",
    "# add the title \"Checkin_Frequency\" of column for frequency of checkin\n",
    "checkin_list[0].append(\"Checkin_Frequency\")\n"
   ]
  },
  {
   "cell_type": "code",
   "execution_count": 10,
   "metadata": {
    "collapsed": false
   },
   "outputs": [],
   "source": [
    "# output data for summation of checkin to new csv data: \"checkin_sum.csv\"\n",
    "\n",
    "# checkin_list = [['time', 'business_id', 'type'],[{},'...','checkin',int],[...],...]\n",
    "# print(type(checkin_list[3]))　  : <class 'list'>\n",
    "# print(type(checkin_list[3][0])) : <class 'dict'>\n",
    "# print(type(checkin_list[3][1])) : <class 'str'>\n",
    "# print(type(checkin_list[3][2])) : <class 'str'>\n",
    "#　print(type(checkin_list[3][3])): <class 'int'>\n",
    "\n",
    "checkin_sum = open('checkin_sum.csv' , 'w' , newline = \"\" , encoding='utf-8')\n",
    "write_checkin_sum = csv.writer(checkin_sum)\n",
    "\n",
    "# output each checkin log to new csv data:\n",
    "\n",
    "for each_checkin_list in checkin_list:\n",
    "    write_checkin_sum.writerow(each_checkin_list)\n",
    "\n",
    "checkin_sum.close()"
   ]
  },
  {
   "cell_type": "code",
   "execution_count": null,
   "metadata": {
    "collapsed": true
   },
   "outputs": [],
   "source": []
  },
  {
   "cell_type": "code",
   "execution_count": null,
   "metadata": {
    "collapsed": true
   },
   "outputs": [],
   "source": []
  }
 ],
 "metadata": {
  "kernelspec": {
   "display_name": "Python 3",
   "language": "python",
   "name": "python3"
  },
  "language_info": {
   "codemirror_mode": {
    "name": "ipython",
    "version": 3
   },
   "file_extension": ".py",
   "mimetype": "text/x-python",
   "name": "python",
   "nbconvert_exporter": "python",
   "pygments_lexer": "ipython3",
   "version": "3.6.0"
  }
 },
 "nbformat": 4,
 "nbformat_minor": 2
}
