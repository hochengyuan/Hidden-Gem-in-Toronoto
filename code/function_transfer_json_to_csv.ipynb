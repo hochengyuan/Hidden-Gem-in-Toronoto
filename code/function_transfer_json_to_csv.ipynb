{
 "cells": [
  {
   "cell_type": "code",
   "execution_count": null,
   "metadata": {
    "collapsed": true
   },
   "outputs": [],
   "source": [
    "import json\n",
    "import csv\n",
    "\n",
    "\n",
    "def json_transfer_csv(json_file_name , csv_file_name):\n",
    "    ListCheckin = []\n",
    "    input_json_checkin = open(json_file_name , 'r' , encoding='utf-8')\n",
    "\n",
    "    # assign dict-like element to exact dict, append to ListCheckin\n",
    "    for line in input_json_checkin:\n",
    "        ListCheckin.append(json.loads(line)) \n",
    "    \n",
    "    keyList = []\n",
    "    for key in ListCheckin[0].keys():\n",
    "        keyList.append(key)    \n",
    "    \n",
    "    input_json_checkin.close()\n",
    "\n",
    "    output_json_checkin = open(csv_file_name , 'w' , newline = \"\" , encoding='utf-8')\n",
    "\n",
    "    write_output_json_checkin = csv.writer(output_json_checkin)\n",
    "    write_output_json_checkin.writerow(keyList)\n",
    "\n",
    "\n",
    "    for list_dict_checkin in ListCheckin:\n",
    "        write_output_json_checkin.writerow(list(list_dict_checkin.values()))"
   ]
  },
  {
   "cell_type": "code",
   "execution_count": null,
   "metadata": {
    "collapsed": true
   },
   "outputs": [],
   "source": [
    "json_transfer_csv(\"yelp_academic_dataset_business.json\" , \"business.csv\")\n",
    "json_transfer_csv(\"yelp_academic_dataset_checkin.json\" , \"checkin.csv\")"
   ]
  }
 ],
 "metadata": {
  "kernelspec": {
   "display_name": "Python 3",
   "language": "python",
   "name": "python3"
  },
  "language_info": {
   "codemirror_mode": {
    "name": "ipython",
    "version": 3
   },
   "file_extension": ".py",
   "mimetype": "text/x-python",
   "name": "python",
   "nbconvert_exporter": "python",
   "pygments_lexer": "ipython3",
   "version": "3.6.0"
  }
 },
 "nbformat": 4,
 "nbformat_minor": 2
}
